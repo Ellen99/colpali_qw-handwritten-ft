{
 "cells": [
  {
   "cell_type": "markdown",
   "id": "68d61f8f",
   "metadata": {},
   "source": [
    "## Innference using https://huggingface.co/nomic-ai/colnomic-embed-multimodal-7b model"
   ]
  },
  {
   "cell_type": "code",
   "execution_count": 3,
   "id": "7fba3bd3",
   "metadata": {},
   "outputs": [
    {
     "name": "stderr",
     "output_type": "stream",
     "text": [
      "/Users/elen_chatikyan/.pyenv/versions/colpali-env/lib/python3.11/site-packages/tqdm/auto.py:21: TqdmWarning: IProgress not found. Please update jupyter and ipywidgets. See https://ipywidgets.readthedocs.io/en/stable/user_install.html\n",
      "  from .autonotebook import tqdm as notebook_tqdm\n"
     ]
    }
   ],
   "source": [
    "import os\n",
    "import os\n",
    "import matplotlib.pyplot as plt\n",
    "from torchvision import transforms\n",
    "from data_collection.datasets import IAMDataset\n",
    "from PIL import Image\n",
    "import torch\n",
    "from colpali_engine.models import ColQwen2_5, ColQwen2_5_Processor"
   ]
  },
  {
   "cell_type": "code",
   "execution_count": null,
   "id": "c282f61c",
   "metadata": {},
   "outputs": [
    {
     "name": "stderr",
     "output_type": "stream",
     "text": [
      "Fetching 7 files: 100%|██████████| 7/7 [00:00<00:00, 89786.32it/s]\n",
      "Loading checkpoint shards: 100%|██████████| 7/7 [00:00<00:00, 79.26it/s]\n"
     ]
    }
   ],
   "source": [
    "model_name = \"nomic-ai/colnomic-embed-multimodal-7b\"\n",
    "model = ColQwen2_5.from_pretrained(model_name).eval()\n",
    "processor = ColQwen2_5_Processor.from_pretrained(model_name)\n",
    "\n",
    "# Load your image and text\n",
    "image = Image.open(\"path_to_img.png\")\n",
    "text = \"query\"\n",
    "\n",
    "# Process inputs\n",
    "processed_image = processor.process_images([image]).to(model.device)\n",
    "processed_text = processor.process_queries([text]).to(model.device)\n",
    "\n",
    "with torch.no_grad():\n",
    "    image_embeddings = model(**processed_image)\n",
    "    query_embeddings = model(**processed_text)\n",
    "\n",
    "scores = processor.score_multi_vector(query_embeddings, image_embeddings)"
   ]
  },
  {
   "cell_type": "code",
   "execution_count": 8,
   "id": "d63c9593",
   "metadata": {},
   "outputs": [
    {
     "name": "stdout",
     "output_type": "stream",
     "text": [
      "tensor([[5.5229]])\n"
     ]
    }
   ],
   "source": [
    "print(scores)"
   ]
  }
 ],
 "metadata": {
  "kernelspec": {
   "display_name": "colpali-env",
   "language": "python",
   "name": "python3"
  },
  "language_info": {
   "codemirror_mode": {
    "name": "ipython",
    "version": 3
   },
   "file_extension": ".py",
   "mimetype": "text/x-python",
   "name": "python",
   "nbconvert_exporter": "python",
   "pygments_lexer": "ipython3",
   "version": "3.11.6"
  }
 },
 "nbformat": 4,
 "nbformat_minor": 5
}
