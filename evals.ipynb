{
 "cells": [
  {
   "cell_type": "code",
   "execution_count": null,
   "id": "3337f056-6ddb-4934-9e45-27dc1babb858",
   "metadata": {},
   "outputs": [],
   "source": [
    "!pip install matplotlib\n",
    "!pip install torch\n",
    "!pip install colpali-engine\n",
    "!pip install torchvision\n",
    "!pip install wandb"
   ]
  },
  {
   "cell_type": "code",
   "execution_count": 22,
   "id": "ebdf357c-b02b-4b87-96ad-20cad4f4f833",
   "metadata": {},
   "outputs": [],
   "source": [
    "import wandb\n",
    "import os# from torchvision import transforms\n",
    "from data_collection.datasets import IAMDataset\n",
    "from PIL import Image\n",
    "from torchvision import transforms\n",
    "import torch\n",
    "from colpali_engine.models import ColQwen2_5, ColQwen2_5_Processor\n",
    "import random\n",
    "import wandb\n",
    "import os"
   ]
  },
  {
   "cell_type": "code",
   "execution_count": 8,
   "id": "15e1ac06-7f4c-4c1c-ae6b-0eab5145384c",
   "metadata": {},
   "outputs": [
    {
     "name": "stderr",
     "output_type": "stream",
     "text": [
      "\u001b[34m\u001b[1mwandb\u001b[0m: \u001b[33mWARNING\u001b[0m Calling wandb.login() after wandb.init() has no effect.\n"
     ]
    },
    {
     "data": {
      "text/plain": [
       "True"
      ]
     },
     "execution_count": 8,
     "metadata": {},
     "output_type": "execute_result"
    }
   ],
   "source": [
    "wandb.login()"
   ]
  },
  {
   "cell_type": "code",
   "execution_count": 2,
   "id": "ab7d39fd-0c17-4507-a904-352b1ebd1c81",
   "metadata": {},
   "outputs": [
    {
     "name": "stdout",
     "output_type": "stream",
     "text": [
      "Dataset loaded successfully with 13353 samples.\n"
     ]
    }
   ],
   "source": [
    "lines_txt_path = 'data/IAM/ascii/lines.txt'\n",
    "base_image_path = 'data/IAM/lines'\n",
    "\n",
    "if not os.path.exists(lines_txt_path) or not os.path.exists(base_image_path):\n",
    "    print(f\"Error: Dataset files not found.\")\n",
    "    print(f\"Please ensure '{lines_txt_path}' and '{base_image_path}' exist.\")\n",
    "    exit()\n",
    "\n",
    "\n",
    "try:\n",
    "    dataset = IAMDataset(\n",
    "        lines_txt_path=lines_txt_path,\n",
    "        base_image_path=base_image_path,\n",
    "    )\n",
    "    print(f\"Dataset loaded successfully with {len(dataset)} samples.\")\n",
    "except Exception as e:\n",
    "    print(f\"Error loading dataset: {e}\")\n",
    "    exit()"
   ]
  },
  {
   "cell_type": "code",
   "execution_count": 54,
   "id": "57ebc077-34a5-4a9e-b98d-06b6d5d975ad",
   "metadata": {},
   "outputs": [],
   "source": [
    "def create_datasets(\n",
    "    lines_txt_path='data/IAM/ascii/lines.txt',\n",
    "    base_image_path='data/IAM/lines',\n",
    "    transform_fns=None\n",
    "):\n",
    "    if transform_fns is None:\n",
    "        transform_fns = {'default': None}\n",
    "\n",
    "    datasets = {}\n",
    "    for name, fn in transform_fns.items():\n",
    "        datasets[name] = IAMDataset(\n",
    "            lines_txt_path=lines_txt_path,\n",
    "            base_image_path=base_image_path,\n",
    "            transform=fn\n",
    "        )\n",
    "    return datasets"
   ]
  },
  {
   "cell_type": "code",
   "execution_count": 50,
   "id": "fed1961d-3347-4898-aab6-9ded8dda6a64",
   "metadata": {},
   "outputs": [],
   "source": []
  },
  {
   "cell_type": "code",
   "execution_count": 55,
   "id": "7c96178b-2a41-4a94-8530-b323073a033c",
   "metadata": {},
   "outputs": [],
   "source": []
  },
  {
   "cell_type": "code",
   "execution_count": 58,
   "id": "bfac6452-6a39-4041-a4e3-e8f7e81f7c67",
   "metadata": {},
   "outputs": [],
   "source": [
    "def evaluate_datasets(\n",
    "    datasets,\n",
    "    models,\n",
    "    processor,\n",
    "    device,\n",
    "    scores,\n",
    "    num_samples\n",
    "):\n",
    "    \"\"\"\n",
    "    Evaluate each model on each dataset and log metrics to W&B.\n",
    "\n",
    "    Args:\n",
    "        datasets: Dict of IAMDataset instances.\n",
    "        models: Dict mapping model names to models.\n",
    "        processor: The ColPaLi processor for image/text -> embeddings.\n",
    "        device: Torch device (e.g., torch.device('cuda')).\n",
    "        scores: Dict mapping score names to scoring functions.\n",
    "        num_samples: Number of samples to evaluate per dataset.\n",
    "    \"\"\"\n",
    "    for ds_name, ds in datasets.items():\n",
    "        for model_name, model in models.items():\n",
    "            run_name = f\"{model_name}_{ds_name}\"\n",
    "            wandb.init(project=\"colpali_evaluation\", name=run_name)\n",
    "            model.to(device).eval()\n",
    "\n",
    "            for i in range(min(num_samples, len(ds))):\n",
    "                image, text = ds[i]\n",
    "                try:\n",
    "                    # Process inputs\n",
    "                    processed_image = processor.process_images([image]).to(device)\n",
    "                    processed_text = processor.process_queries([text]).to(device)\n",
    "\n",
    "                    # Inference\n",
    "                    with torch.no_grad():\n",
    "                        img_emb = model(**processed_image)\n",
    "                        txt_emb = model(**processed_text)\n",
    "\n",
    "                    # Apply each scoring function\n",
    "                    log_data = {\n",
    "                        \"dataset\": ds_name,\n",
    "                        \"model\": model_name,\n",
    "                        \"sample_index\": i,\n",
    "                    }\n",
    "                    for score_name, score_fn in scores.items():\n",
    "                        score_value = score_fn(txt_emb, img_emb).item()\n",
    "                        log_data[score_name] = score_value\n",
    "\n",
    "                    wandb.log(log_data)\n",
    "\n",
    "                except Exception as e:\n",
    "                    print(f\"Error at ds={ds_name}, model={model_name}, idx={i}: {e}\")\n",
    "\n",
    "            wandb.finish()"
   ]
  },
  {
   "cell_type": "code",
   "execution_count": 41,
   "id": "edbab1b6-bc76-4705-8302-2e24d8a8fa73",
   "metadata": {},
   "outputs": [
    {
     "data": {
      "application/vnd.jupyter.widget-view+json": {
       "model_id": "431b385889244a2cb78c6f38216ad78e",
       "version_major": 2,
       "version_minor": 0
      },
      "text/plain": [
       "Fetching 7 files:   0%|          | 0/7 [00:00<?, ?it/s]"
      ]
     },
     "metadata": {},
     "output_type": "display_data"
    },
    {
     "data": {
      "application/vnd.jupyter.widget-view+json": {
       "model_id": "6e4ed49f07e54a419f8472310b8daa46",
       "version_major": 2,
       "version_minor": 0
      },
      "text/plain": [
       "Loading checkpoint shards:   0%|          | 0/7 [00:00<?, ?it/s]"
      ]
     },
     "metadata": {},
     "output_type": "display_data"
    }
   ],
   "source": [
    "model_name = \"nomic-ai/colnomic-embed-multimodal-7b\"\n",
    "device = torch.device(\"cuda\" if torch.cuda.is_available() else \"cpu\")\n",
    "model = ColQwen2_5.from_pretrained(model_name).to(device).eval()\n",
    "processor = ColQwen2_5_Processor.from_pretrained(model_name)"
   ]
  },
  {
   "cell_type": "code",
   "execution_count": 63,
   "id": "31dfbf53-f821-4295-a70d-281caefd7be8",
   "metadata": {},
   "outputs": [
    {
     "data": {
      "text/html": [
       "Tracking run with wandb version 0.19.10"
      ],
      "text/plain": [
       "<IPython.core.display.HTML object>"
      ]
     },
     "metadata": {},
     "output_type": "display_data"
    },
    {
     "data": {
      "text/html": [
       "Run data is saved locally in <code>/home/allent3/CS598/colpali_qw-handwritten-ft/wandb/run-20250429_022618-d2diau1y</code>"
      ],
      "text/plain": [
       "<IPython.core.display.HTML object>"
      ]
     },
     "metadata": {},
     "output_type": "display_data"
    },
    {
     "data": {
      "text/html": [
       "Syncing run <strong><a href='https://wandb.ai/allen-thomas/colpali_evaluation/runs/d2diau1y' target=\"_blank\">base_default</a></strong> to <a href='https://wandb.ai/allen-thomas/colpali_evaluation' target=\"_blank\">Weights & Biases</a> (<a href='https://wandb.me/developer-guide' target=\"_blank\">docs</a>)<br>"
      ],
      "text/plain": [
       "<IPython.core.display.HTML object>"
      ]
     },
     "metadata": {},
     "output_type": "display_data"
    },
    {
     "data": {
      "text/html": [
       " View project at <a href='https://wandb.ai/allen-thomas/colpali_evaluation' target=\"_blank\">https://wandb.ai/allen-thomas/colpali_evaluation</a>"
      ],
      "text/plain": [
       "<IPython.core.display.HTML object>"
      ]
     },
     "metadata": {},
     "output_type": "display_data"
    },
    {
     "data": {
      "text/html": [
       " View run at <a href='https://wandb.ai/allen-thomas/colpali_evaluation/runs/d2diau1y' target=\"_blank\">https://wandb.ai/allen-thomas/colpali_evaluation/runs/d2diau1y</a>"
      ],
      "text/plain": [
       "<IPython.core.display.HTML object>"
      ]
     },
     "metadata": {},
     "output_type": "display_data"
    },
    {
     "data": {
      "text/html": [],
      "text/plain": [
       "<IPython.core.display.HTML object>"
      ]
     },
     "metadata": {},
     "output_type": "display_data"
    },
    {
     "data": {
      "text/html": [
       "<br>    <style><br>        .wandb-row {<br>            display: flex;<br>            flex-direction: row;<br>            flex-wrap: wrap;<br>            justify-content: flex-start;<br>            width: 100%;<br>        }<br>        .wandb-col {<br>            display: flex;<br>            flex-direction: column;<br>            flex-basis: 100%;<br>            flex: 1;<br>            padding: 10px;<br>        }<br>    </style><br><div class=\"wandb-row\"><div class=\"wandb-col\"><h3>Run history:</h3><br/><table class=\"wandb\"><tr><td>sample_index</td><td>▁▁▁▁▁▂▃▃▃▃▃▃▃▄▄▄▄▄▄▄▅▅▅▅▅▅▆▆▆▆▆▆▆▇▇▇▇███</td></tr><tr><td>similarity_score</td><td>▃▃▂▃▃▃▆▁▅▃▃▄▂▃▂▄▅▅▆▃▇▄▄▅▁▄▁▄▄▄█▅▇▁▄▃▅▃▅▃</td></tr></table><br/></div><div class=\"wandb-col\"><h3>Run summary:</h3><br/><table class=\"wandb\"><tr><td>dataset</td><td>default</td></tr><tr><td>model</td><td>base</td></tr><tr><td>sample_index</td><td>99</td></tr><tr><td>similarity_score</td><td>19.76352</td></tr></table><br/></div></div>"
      ],
      "text/plain": [
       "<IPython.core.display.HTML object>"
      ]
     },
     "metadata": {},
     "output_type": "display_data"
    },
    {
     "data": {
      "text/html": [
       " View run <strong style=\"color:#cdcd00\">base_default</strong> at: <a href='https://wandb.ai/allen-thomas/colpali_evaluation/runs/d2diau1y' target=\"_blank\">https://wandb.ai/allen-thomas/colpali_evaluation/runs/d2diau1y</a><br> View project at: <a href='https://wandb.ai/allen-thomas/colpali_evaluation' target=\"_blank\">https://wandb.ai/allen-thomas/colpali_evaluation</a><br>Synced 5 W&B file(s), 0 media file(s), 0 artifact file(s) and 0 other file(s)"
      ],
      "text/plain": [
       "<IPython.core.display.HTML object>"
      ]
     },
     "metadata": {},
     "output_type": "display_data"
    },
    {
     "data": {
      "text/html": [
       "Find logs at: <code>./wandb/run-20250429_022618-d2diau1y/logs</code>"
      ],
      "text/plain": [
       "<IPython.core.display.HTML object>"
      ]
     },
     "metadata": {},
     "output_type": "display_data"
    }
   ],
   "source": [
    "device = torch.device('cuda' if torch.cuda.is_available() else 'cpu')\n",
    "scores = {\n",
    "    \"similarity_score\": processor.score_multi_vector\n",
    "}\n",
    "transfns = {\"default\":None}\n",
    "datasets = create_datasets(transform_fns=transfns)\n",
    "\n",
    "evaluate_datasets(\n",
    "    datasets=datasets,\n",
    "    models={\"base\":model},\n",
    "    processor=processor,\n",
    "    device=device,\n",
    "    scores = scores,\n",
    "    num_samples=100\n",
    ")"
   ]
  },
  {
   "cell_type": "code",
   "execution_count": null,
   "id": "dcabe269-7165-43df-85b5-2565eed8c74a",
   "metadata": {},
   "outputs": [],
   "source": []
  },
  {
   "cell_type": "code",
   "execution_count": null,
   "id": "a16b32c5-0b26-404e-a9f6-2b265d98c73d",
   "metadata": {},
   "outputs": [],
   "source": []
  }
 ],
 "metadata": {
  "kernelspec": {
   "display_name": "Python 3 (ipykernel)",
   "language": "python",
   "name": "python3"
  },
  "language_info": {
   "codemirror_mode": {
    "name": "ipython",
    "version": 3
   },
   "file_extension": ".py",
   "mimetype": "text/x-python",
   "name": "python",
   "nbconvert_exporter": "python",
   "pygments_lexer": "ipython3",
   "version": "3.11.6"
  }
 },
 "nbformat": 4,
 "nbformat_minor": 5
}
